{
  "cells": [
    {
      "cell_type": "code",
      "execution_count": 3,
      "metadata": {
        "id": "TtMvU5vYZRft"
      },
      "outputs": [],
      "source": [
        "# Load library\n",
        "import pandas as pd\n",
        "import numpy as np\n",
        "import json\n",
        "import pickle"
      ]
    },
    {
      "cell_type": "code",
      "execution_count": 4,
      "metadata": {
        "id": "oreASnweZdI2"
      },
      "outputs": [],
      "source": [
        "# Load model and other files\n",
        "with open('model.pkl', 'rb') as file_1:\n",
        "  model = pickle.load(file_1)\n",
        "\n",
        "# Load list kolom numerikal\n",
        "with open('list_num_cols.txt', 'r') as file_2:\n",
        "    num_cols = json.load(file_2)\n",
        "\n",
        "# Load list kolom kategorikal from the JSON file\n",
        "with open('list_cat_cols.txt', 'r') as file_3:\n",
        "    cat_cols = json.load(file_3)\n",
        "\n",
        "# Load encoder\n",
        "with open('encoder.pkl', 'rb') as file_4:\n",
        "  encoder = pickle.load(file_4)\n",
        "\n",
        "# Load scaler\n",
        "with open('scaler.pkl', 'rb') as file_5:\n",
        "  scaler = pickle.load(file_5)"
      ]
    },
    {
      "cell_type": "markdown",
      "metadata": {
        "id": "PVN5P-QnaWeD"
      },
      "source": [
        "## Data Inference"
      ]
    },
    {
      "cell_type": "code",
      "execution_count": 5,
      "metadata": {
        "colab": {
          "base_uri": "https://localhost:8080/",
          "height": 101
        },
        "id": "rCHq5W4iaesZ",
        "outputId": "99282c8c-62f1-4661-95ae-d6101987d93f"
      },
      "outputs": [
        {
          "data": {
            "text/html": [
              "<div>\n",
              "<style scoped>\n",
              "    .dataframe tbody tr th:only-of-type {\n",
              "        vertical-align: middle;\n",
              "    }\n",
              "\n",
              "    .dataframe tbody tr th {\n",
              "        vertical-align: top;\n",
              "    }\n",
              "\n",
              "    .dataframe thead th {\n",
              "        text-align: right;\n",
              "    }\n",
              "</style>\n",
              "<table border=\"1\" class=\"dataframe\">\n",
              "  <thead>\n",
              "    <tr style=\"text-align: right;\">\n",
              "      <th></th>\n",
              "      <th>Name</th>\n",
              "      <th>Age</th>\n",
              "      <th>Height</th>\n",
              "      <th>Weight</th>\n",
              "      <th>ValueEUR</th>\n",
              "      <th>AttackingWorkRate</th>\n",
              "      <th>DefensiveWorkRate</th>\n",
              "      <th>PaceTotal</th>\n",
              "      <th>ShootingTotal</th>\n",
              "      <th>PassingTotal</th>\n",
              "      <th>DribblingTotal</th>\n",
              "      <th>DefendingTotal</th>\n",
              "      <th>PhysicalityTotal</th>\n",
              "    </tr>\n",
              "  </thead>\n",
              "  <tbody>\n",
              "    <tr>\n",
              "      <th>0</th>\n",
              "      <td>Riki</td>\n",
              "      <td>26</td>\n",
              "      <td>300</td>\n",
              "      <td>73</td>\n",
              "      <td>5000000</td>\n",
              "      <td>High</td>\n",
              "      <td>High</td>\n",
              "      <td>100</td>\n",
              "      <td>100</td>\n",
              "      <td>100</td>\n",
              "      <td>100</td>\n",
              "      <td>100</td>\n",
              "      <td>100</td>\n",
              "    </tr>\n",
              "  </tbody>\n",
              "</table>\n",
              "</div>"
            ],
            "text/plain": [
              "   Name  Age  Height  Weight  ValueEUR AttackingWorkRate DefensiveWorkRate  \\\n",
              "0  Riki   26     300      73   5000000              High              High   \n",
              "\n",
              "   PaceTotal  ShootingTotal  PassingTotal  DribblingTotal  DefendingTotal  \\\n",
              "0        100            100           100             100             100   \n",
              "\n",
              "   PhysicalityTotal  \n",
              "0               100  "
            ]
          },
          "execution_count": 5,
          "metadata": {},
          "output_type": "execute_result"
        }
      ],
      "source": [
        "data = pd.DataFrame([{\n",
        "    'Name': 'Riki',\n",
        "    'Age': 26,\n",
        "    'Height': 300,\n",
        "    'Weight':73,\n",
        "    'ValueEUR':5_000_000,\n",
        "    'AttackingWorkRate':'High',\n",
        "    'DefensiveWorkRate':'High',\n",
        "    'PaceTotal':100,\n",
        "    'ShootingTotal':100,\n",
        "    'PassingTotal':100,\n",
        "    'DribblingTotal':100,\n",
        "    'DefendingTotal':100,\n",
        "    'PhysicalityTotal':100\n",
        "}])\n",
        "\n",
        "data"
      ]
    },
    {
      "cell_type": "markdown",
      "metadata": {
        "id": "YzSSry1ibWxT"
      },
      "source": [
        "### Feature Engineering"
      ]
    },
    {
      "cell_type": "code",
      "execution_count": 6,
      "metadata": {
        "id": "8FJe5QnBbYZn"
      },
      "outputs": [],
      "source": [
        "# Split cat and num\n",
        "data_num = data[num_cols]\n",
        "data_cat = data[cat_cols]\n",
        "\n",
        "# Encode the cat\n",
        "data_cat_encode = encoder.transform(data_cat)\n",
        "\n",
        "# Scale the num\n",
        "data_num_scale = scaler.transform(data_num)\n",
        "\n",
        "# Concatenate\n",
        "data_final = np.concatenate([data_cat_encode, data_num_scale], axis = 1)"
      ]
    },
    {
      "cell_type": "markdown",
      "metadata": {
        "id": "v6okR2N3cMGX"
      },
      "source": [
        "### Predict the Inference"
      ]
    },
    {
      "cell_type": "code",
      "execution_count": 7,
      "metadata": {
        "colab": {
          "base_uri": "https://localhost:8080/"
        },
        "id": "IuhcsDYSc0wC",
        "outputId": "f8e0f283-75b8-4657-8f12-d2291061996f"
      },
      "outputs": [
        {
          "name": "stdout",
          "output_type": "stream",
          "text": [
            "Pemain Riki Mendapatkan Score Overall sebesar: 97.97\n"
          ]
        }
      ],
      "source": [
        "# Predict the score\n",
        "score = model.predict(data_final)\n",
        "\n",
        "# Show the result\n",
        "print(f'Pemain {data.Name[0]} Mendapatkan Score Overall sebesar: {score[0]:.2f}')"
      ]
    }
  ],
  "metadata": {
    "colab": {
      "provenance": []
    },
    "kernelspec": {
      "display_name": "Python 3",
      "name": "python3"
    },
    "language_info": {
      "codemirror_mode": {
        "name": "ipython",
        "version": 3
      },
      "file_extension": ".py",
      "mimetype": "text/x-python",
      "name": "python",
      "nbconvert_exporter": "python",
      "pygments_lexer": "ipython3",
      "version": "3.9.19"
    }
  },
  "nbformat": 4,
  "nbformat_minor": 0
}
