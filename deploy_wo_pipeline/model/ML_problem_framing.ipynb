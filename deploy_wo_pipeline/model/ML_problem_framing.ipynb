{
  "cells": [
    {
      "cell_type": "markdown",
      "metadata": {
        "id": "wJ2n-JWpEzn1"
      },
      "source": [
        "# FIFA RANKING PREDICTION MODEL\n",
        "---\n",
        "\n",
        "Nama : Riki  \n",
        "Batch : HCK - 013\n",
        "\n",
        "**Objective** :\n",
        "- This project goal is to create a model that could predict the FIFA Overall Ranking\n",
        "\n",
        "**Background**\n",
        "\n",
        "**Problem Exploratory Question**"
      ]
    },
    {
      "cell_type": "markdown",
      "metadata": {
        "id": "4qdLh13TFJNv"
      },
      "source": [
        "## Import Libraries\n",
        "> !pip install scikit-learn"
      ]
    },
    {
      "cell_type": "code",
      "execution_count": 1,
      "metadata": {
        "id": "cFXTM1iiEyUF"
      },
      "outputs": [],
      "source": [
        "# Libraries for Data Manipulation\n",
        "import pandas as pd\n",
        "import numpy as np\n",
        "\n",
        "# Libraries for Visualization\n",
        "import matplotlib.pyplot as plt\n",
        "import seaborn as sns\n",
        "\n",
        "# Libraries for Modeling\n",
        "from sklearn.model_selection import train_test_split\n",
        "from sklearn.preprocessing import MinMaxScaler\n",
        "from sklearn.preprocessing import OrdinalEncoder\n",
        "from sklearn.metrics import mean_absolute_error\n",
        "from sklearn.linear_model import LinearRegression\n",
        "\n",
        "# Model Saving\n",
        "import pickle\n",
        "import json"
      ]
    },
    {
      "cell_type": "markdown",
      "metadata": {
        "id": "topxm_lIGPS4"
      },
      "source": [
        "## Data Loading\n",
        "\n",
        "penjelasan terkait\n",
        "- data nya tentang apa\n",
        "- link atau sumber datanya\n",
        "- informasi terkait dengan kolom"
      ]
    },
    {
      "cell_type": "code",
      "execution_count": 2,
      "metadata": {
        "colab": {
          "base_uri": "https://localhost:8080/",
          "height": 261
        },
        "id": "-E9A7tlGGeMX",
        "outputId": "7291a022-03e0-4669-a814-ba322d7b270e"
      },
      "outputs": [
        {
          "data": {
            "text/html": [
              "<div>\n",
              "<style scoped>\n",
              "    .dataframe tbody tr th:only-of-type {\n",
              "        vertical-align: middle;\n",
              "    }\n",
              "\n",
              "    .dataframe tbody tr th {\n",
              "        vertical-align: top;\n",
              "    }\n",
              "\n",
              "    .dataframe thead th {\n",
              "        text-align: right;\n",
              "    }\n",
              "</style>\n",
              "<table border=\"1\" class=\"dataframe\">\n",
              "  <thead>\n",
              "    <tr style=\"text-align: right;\">\n",
              "      <th></th>\n",
              "      <th>Name</th>\n",
              "      <th>Age</th>\n",
              "      <th>Height</th>\n",
              "      <th>Weight</th>\n",
              "      <th>ValueEUR</th>\n",
              "      <th>AttackingWorkRate</th>\n",
              "      <th>DefensiveWorkRate</th>\n",
              "      <th>PaceTotal</th>\n",
              "      <th>ShootingTotal</th>\n",
              "      <th>PassingTotal</th>\n",
              "      <th>DribblingTotal</th>\n",
              "      <th>DefendingTotal</th>\n",
              "      <th>PhysicalityTotal</th>\n",
              "      <th>Overall</th>\n",
              "    </tr>\n",
              "  </thead>\n",
              "  <tbody>\n",
              "    <tr>\n",
              "      <th>0</th>\n",
              "      <td>L. Messi</td>\n",
              "      <td>34</td>\n",
              "      <td>170</td>\n",
              "      <td>72</td>\n",
              "      <td>78000000</td>\n",
              "      <td>Medium</td>\n",
              "      <td>Low</td>\n",
              "      <td>85</td>\n",
              "      <td>92</td>\n",
              "      <td>91</td>\n",
              "      <td>95</td>\n",
              "      <td>34</td>\n",
              "      <td>65</td>\n",
              "      <td>93</td>\n",
              "    </tr>\n",
              "    <tr>\n",
              "      <th>1</th>\n",
              "      <td>R. Lewandowski</td>\n",
              "      <td>32</td>\n",
              "      <td>185</td>\n",
              "      <td>81</td>\n",
              "      <td>119500000</td>\n",
              "      <td>High</td>\n",
              "      <td>Medium</td>\n",
              "      <td>78</td>\n",
              "      <td>92</td>\n",
              "      <td>79</td>\n",
              "      <td>85</td>\n",
              "      <td>44</td>\n",
              "      <td>82</td>\n",
              "      <td>92</td>\n",
              "    </tr>\n",
              "    <tr>\n",
              "      <th>2</th>\n",
              "      <td>Cristiano Ronaldo</td>\n",
              "      <td>36</td>\n",
              "      <td>187</td>\n",
              "      <td>83</td>\n",
              "      <td>45000000</td>\n",
              "      <td>High</td>\n",
              "      <td>Low</td>\n",
              "      <td>87</td>\n",
              "      <td>94</td>\n",
              "      <td>80</td>\n",
              "      <td>87</td>\n",
              "      <td>34</td>\n",
              "      <td>75</td>\n",
              "      <td>91</td>\n",
              "    </tr>\n",
              "    <tr>\n",
              "      <th>3</th>\n",
              "      <td>K. Mbappé</td>\n",
              "      <td>22</td>\n",
              "      <td>182</td>\n",
              "      <td>73</td>\n",
              "      <td>194000000</td>\n",
              "      <td>High</td>\n",
              "      <td>Low</td>\n",
              "      <td>97</td>\n",
              "      <td>88</td>\n",
              "      <td>80</td>\n",
              "      <td>92</td>\n",
              "      <td>36</td>\n",
              "      <td>77</td>\n",
              "      <td>91</td>\n",
              "    </tr>\n",
              "    <tr>\n",
              "      <th>4</th>\n",
              "      <td>J. Oblak</td>\n",
              "      <td>28</td>\n",
              "      <td>188</td>\n",
              "      <td>87</td>\n",
              "      <td>112000000</td>\n",
              "      <td>Medium</td>\n",
              "      <td>Medium</td>\n",
              "      <td>87</td>\n",
              "      <td>92</td>\n",
              "      <td>78</td>\n",
              "      <td>90</td>\n",
              "      <td>52</td>\n",
              "      <td>90</td>\n",
              "      <td>91</td>\n",
              "    </tr>\n",
              "  </tbody>\n",
              "</table>\n",
              "</div>"
            ],
            "text/plain": [
              "                Name  Age  Height  Weight   ValueEUR AttackingWorkRate  \\\n",
              "0           L. Messi   34     170      72   78000000            Medium   \n",
              "1     R. Lewandowski   32     185      81  119500000              High   \n",
              "2  Cristiano Ronaldo   36     187      83   45000000              High   \n",
              "3          K. Mbappé   22     182      73  194000000              High   \n",
              "4           J. Oblak   28     188      87  112000000            Medium   \n",
              "\n",
              "  DefensiveWorkRate  PaceTotal  ShootingTotal  PassingTotal  DribblingTotal  \\\n",
              "0               Low         85             92            91              95   \n",
              "1            Medium         78             92            79              85   \n",
              "2               Low         87             94            80              87   \n",
              "3               Low         97             88            80              92   \n",
              "4            Medium         87             92            78              90   \n",
              "\n",
              "   DefendingTotal  PhysicalityTotal  Overall  \n",
              "0              34                65       93  \n",
              "1              44                82       92  \n",
              "2              34                75       91  \n",
              "3              36                77       91  \n",
              "4              52                90       91  "
            ]
          },
          "execution_count": 2,
          "metadata": {},
          "output_type": "execute_result"
        }
      ],
      "source": [
        "# data loading\n",
        "data = pd.read_csv('https://raw.githubusercontent.com/FTDS-learning-materials/phase-1/master/w1/P1W1D1PM%20-%20Machine%20Learning%20Problem%20Framing.csv')\n",
        "\n",
        "# Show data\n",
        "data.head()"
      ]
    },
    {
      "cell_type": "markdown",
      "metadata": {
        "id": "UhNNwSWWGsMj"
      },
      "source": [
        "Data successfully loaded"
      ]
    },
    {
      "cell_type": "code",
      "execution_count": 3,
      "metadata": {
        "colab": {
          "base_uri": "https://localhost:8080/"
        },
        "id": "H021SiaKGvRq",
        "outputId": "0b418432-affb-424e-9ee4-2d703f1a73e1"
      },
      "outputs": [
        {
          "name": "stdout",
          "output_type": "stream",
          "text": [
            "<class 'pandas.core.frame.DataFrame'>\n",
            "RangeIndex: 19260 entries, 0 to 19259\n",
            "Data columns (total 14 columns):\n",
            " #   Column             Non-Null Count  Dtype \n",
            "---  ------             --------------  ----- \n",
            " 0   Name               19260 non-null  object\n",
            " 1   Age                19260 non-null  int64 \n",
            " 2   Height             19260 non-null  int64 \n",
            " 3   Weight             19260 non-null  int64 \n",
            " 4   ValueEUR           19260 non-null  int64 \n",
            " 5   AttackingWorkRate  19260 non-null  object\n",
            " 6   DefensiveWorkRate  19260 non-null  object\n",
            " 7   PaceTotal          19260 non-null  int64 \n",
            " 8   ShootingTotal      19260 non-null  int64 \n",
            " 9   PassingTotal       19260 non-null  int64 \n",
            " 10  DribblingTotal     19260 non-null  int64 \n",
            " 11  DefendingTotal     19260 non-null  int64 \n",
            " 12  PhysicalityTotal   19260 non-null  int64 \n",
            " 13  Overall            19260 non-null  int64 \n",
            "dtypes: int64(11), object(3)\n",
            "memory usage: 2.1+ MB\n"
          ]
        }
      ],
      "source": [
        "# Check data info\n",
        "data.info()"
      ]
    },
    {
      "cell_type": "markdown",
      "metadata": {
        "id": "veF9O9YUGylR"
      },
      "source": [
        "- baris ada berapa\n",
        "- kolom ada berapa\n",
        "- tipe datanya apa saja"
      ]
    },
    {
      "cell_type": "markdown",
      "metadata": {
        "id": "WRmHX3uDG9l_"
      },
      "source": [
        "## Exploratory Data Analysis (EDA)\n",
        "\n",
        "biasanya terkait dengan problem exploration question?\n",
        "> 5W + 1H"
      ]
    },
    {
      "cell_type": "markdown",
      "metadata": {
        "id": "TOF1PxvXHeBX"
      },
      "source": [
        "#### Rating Distribution and Weight vs Height"
      ]
    },
    {
      "cell_type": "code",
      "execution_count": 4,
      "metadata": {
        "colab": {
          "base_uri": "https://localhost:8080/",
          "height": 321
        },
        "id": "QWs5K_mOHkEY",
        "outputId": "1824301d-7322-4cbb-c008-45751ce497c4"
      },
      "outputs": [
        {
          "data": {
            "image/png": "[encoded data removed]",
            "text/plain": [
              "<Figure size 1600x500 with 2 Axes>"
            ]
          },
          "metadata": {},
          "output_type": "display_data"
        }
      ],
      "source": [
        "# Visualization\n",
        "plt.figure(figsize=(16, 5))\n",
        "\n",
        "# Rating Distribution\n",
        "plt.subplot(1,2,1)\n",
        "sns.histplot(data['Overall'], kde=True, bins=25)\n",
        "plt.title('Overall Histogram')\n",
        "\n",
        "# Weight vs Height Scatter Plot\n",
        "plt.subplot(1,2,2)\n",
        "sns.scatterplot(x='Weight', y='Height', data=data)\n",
        "plt.title('Weight vs Height')\n",
        "\n",
        "# Show the Plot\n",
        "plt.show()"
      ]
    },
    {
      "cell_type": "markdown",
      "metadata": {
        "id": "houGgKZDIb9O"
      },
      "source": [
        "**Insight**\n",
        "- Point 1\n",
        "- Point 2\n",
        "- Point 3"
      ]
    },
    {
      "cell_type": "markdown",
      "metadata": {
        "id": "H-PqtOi0Elx5"
      },
      "source": [
        "## Feature Engineeering"
      ]
    },
    {
      "cell_type": "markdown",
      "metadata": {
        "id": "BbWSeYW4JSxS"
      },
      "source": [
        "**Splitting Dataset**"
      ]
    },
    {
      "cell_type": "code",
      "execution_count": 5,
      "metadata": {
        "id": "eZeGLk04JFM4"
      },
      "outputs": [],
      "source": [
        "# create copy from the original dataset\n",
        "df = data.copy()"
      ]
    },
    {
      "cell_type": "code",
      "execution_count": 6,
      "metadata": {
        "id": "hEntXd1dJcRA"
      },
      "outputs": [],
      "source": [
        "# Split between label and feature\n",
        "X = df.drop(columns=['Name', 'Overall'], axis=1)      # ini features\n",
        "y = df['Overall']                                     # ini label\n",
        "\n",
        "# Split into Train and Test Set\n",
        "X_train, X_test, y_train, y_test = train_test_split(X,\n",
        "                                                    y,\n",
        "                                                    test_size = 0.2,\n",
        "                                                    random_state=42)"
      ]
    },
    {
      "cell_type": "markdown",
      "metadata": {
        "id": "oUWrJPxFMKqp"
      },
      "source": [
        "### Handling Outliers\n",
        "### Handling Missing values\n",
        "### Handling Duplicates\n",
        "### Feature Selection\n",
        "- uji korelasi, yang tidak ada korelasinya itu di drop\n"
      ]
    },
    {
      "cell_type": "markdown",
      "metadata": {
        "id": "0cpxu-CbM8TN"
      },
      "source": [
        "### Feature Encoding and Scaling\n",
        "- encoding, merubah data yang bersifat text atau `str` menjadi integer\n",
        "- scaling, proses menyamakan atau menormalisasi skala dari kolom-kolom numerikal\n",
        "\n",
        "> kolom kategorikal -> encoding  \n",
        "kolom numerikal -> scaling"
      ]
    },
    {
      "cell_type": "code",
      "execution_count": 7,
      "metadata": {
        "id": "7ytjlwEYM_f7"
      },
      "outputs": [],
      "source": [
        "# split between num cols and cat cols\n",
        "num_cols = X_train.select_dtypes(include=np.number).columns.tolist()\n",
        "cat_cols = X_train.select_dtypes(include='object').columns.tolist()\n",
        "\n",
        "# split train set into num and cat set\n",
        "X_train_num = X_train[num_cols]\n",
        "X_train_cat = X_train[cat_cols]\n",
        "\n",
        "# split test set into num and cat set\n",
        "X_test_num = X_test[num_cols]\n",
        "X_test_cat = X_test[cat_cols]"
      ]
    },
    {
      "cell_type": "markdown",
      "metadata": {
        "id": "gMb_YBUHPPHA"
      },
      "source": [
        "#### Scaling"
      ]
    },
    {
      "cell_type": "code",
      "execution_count": 8,
      "metadata": {
        "id": "iHs1X6VQPQoI"
      },
      "outputs": [],
      "source": [
        "# define the scaler\n",
        "scaler = MinMaxScaler()\n",
        "\n",
        "# Fit the scaler\n",
        "scaler.fit(X_train_num)\n",
        "\n",
        "# Transfrom the data\n",
        "X_train_num_scaled = scaler.transform(X_train_num)\n",
        "X_test_num_scaled = scaler.transform(X_test_num)"
      ]
    },
    {
      "cell_type": "markdown",
      "metadata": {
        "id": "yej2oYXWQxEW"
      },
      "source": [
        "#### Encoding"
      ]
    },
    {
      "cell_type": "code",
      "execution_count": 9,
      "metadata": {
        "id": "oad0aEi2QyHt"
      },
      "outputs": [],
      "source": [
        "# define Encoder\n",
        "encoder = OrdinalEncoder(categories=[['Low', 'Medium', 'High'],\n",
        "                                     ['Low', 'Medium', 'High']])\n",
        "\n",
        "# fit the encoder\n",
        "encoder.fit(X_train_cat)\n",
        "\n",
        "# Transform the data\n",
        "X_train_cat_encode = encoder.transform(X_train_cat)\n",
        "X_test_cat_encode = encoder.transform(X_test_cat)"
      ]
    },
    {
      "cell_type": "markdown",
      "metadata": {
        "id": "4VQSAo29R8Lx"
      },
      "source": [
        "#### Concate the numerical and categorical data"
      ]
    },
    {
      "cell_type": "code",
      "execution_count": 10,
      "metadata": {
        "colab": {
          "base_uri": "https://localhost:8080/",
          "height": 226
        },
        "id": "Wrr8EEr5R_co",
        "outputId": "c624f105-1a4d-4a8a-8498-68a7cd865c00"
      },
      "outputs": [],
      "source": [
        "# Concate\n",
        "X_train_final = np.concatenate([X_train_cat_encode, X_train_num_scaled], axis=1)\n",
        "X_test_final = np.concatenate([X_test_cat_encode, X_test_num_scaled], axis=1)\n",
        "\n",
        "# Transform into dataframe\n",
        "X_train_final = pd.DataFrame(X_train_final, columns=[cat_cols + num_cols])\n",
        "X_test_final = pd.DataFrame(X_test_final, columns=[cat_cols + num_cols])"
      ]
    },
    {
      "cell_type": "markdown",
      "metadata": {
        "id": "jro6JSviTBFN"
      },
      "source": [
        "## Model Definition\n",
        "> penjelasan model apa yang digunakan"
      ]
    },
    {
      "cell_type": "code",
      "execution_count": 11,
      "metadata": {
        "id": "QICQnUiyTCl4"
      },
      "outputs": [],
      "source": [
        "# Define Model\n",
        "model = LinearRegression()"
      ]
    },
    {
      "cell_type": "markdown",
      "metadata": {
        "id": "DbGAvieLTMdx"
      },
      "source": [
        "### Model Training"
      ]
    },
    {
      "cell_type": "code",
      "execution_count": 12,
      "metadata": {
        "colab": {
          "base_uri": "https://localhost:8080/",
          "height": 74
        },
        "id": "FnjOKs9fTOfu",
        "outputId": "c36f1611-5dad-4cce-8d27-87de55c0ac69"
      },
      "outputs": [
        {
          "data": {
            "text/html": [
              "<style>#sk-container-id-1 {color: black;}#sk-container-id-1 pre{padding: 0;}#sk-container-id-1 div.sk-toggleable {background-color: white;}#sk-container-id-1 label.sk-toggleable__label {cursor: pointer;display: block;width: 100%;margin-bottom: 0;padding: 0.3em;box-sizing: border-box;text-align: center;}#sk-container-id-1 label.sk-toggleable__label-arrow:before {content: \"▸\";float: left;margin-right: 0.25em;color: #696969;}#sk-container-id-1 label.sk-toggleable__label-arrow:hover:before {color: black;}#sk-container-id-1 div.sk-estimator:hover label.sk-toggleable__label-arrow:before {color: black;}#sk-container-id-1 div.sk-toggleable__content {max-height: 0;max-width: 0;overflow: hidden;text-align: left;background-color: #f0f8ff;}#sk-container-id-1 div.sk-toggleable__content pre {margin: 0.2em;color: black;border-radius: 0.25em;background-color: #f0f8ff;}#sk-container-id-1 input.sk-toggleable__control:checked~div.sk-toggleable__content {max-height: 200px;max-width: 100%;overflow: auto;}#sk-container-id-1 input.sk-toggleable__control:checked~label.sk-toggleable__label-arrow:before {content: \"▾\";}#sk-container-id-1 div.sk-estimator input.sk-toggleable__control:checked~label.sk-toggleable__label {background-color: #d4ebff;}#sk-container-id-1 div.sk-label input.sk-toggleable__control:checked~label.sk-toggleable__label {background-color: #d4ebff;}#sk-container-id-1 input.sk-hidden--visually {border: 0;clip: rect(1px 1px 1px 1px);clip: rect(1px, 1px, 1px, 1px);height: 1px;margin: -1px;overflow: hidden;padding: 0;position: absolute;width: 1px;}#sk-container-id-1 div.sk-estimator {font-family: monospace;background-color: #f0f8ff;border: 1px dotted black;border-radius: 0.25em;box-sizing: border-box;margin-bottom: 0.5em;}#sk-container-id-1 div.sk-estimator:hover {background-color: #d4ebff;}#sk-container-id-1 div.sk-parallel-item::after {content: \"\";width: 100%;border-bottom: 1px solid gray;flex-grow: 1;}#sk-container-id-1 div.sk-label:hover label.sk-toggleable__label {background-color: #d4ebff;}#sk-container-id-1 div.sk-serial::before {content: \"\";position: absolute;border-left: 1px solid gray;box-sizing: border-box;top: 0;bottom: 0;left: 50%;z-index: 0;}#sk-container-id-1 div.sk-serial {display: flex;flex-direction: column;align-items: center;background-color: white;padding-right: 0.2em;padding-left: 0.2em;position: relative;}#sk-container-id-1 div.sk-item {position: relative;z-index: 1;}#sk-container-id-1 div.sk-parallel {display: flex;align-items: stretch;justify-content: center;background-color: white;position: relative;}#sk-container-id-1 div.sk-item::before, #sk-container-id-1 div.sk-parallel-item::before {content: \"\";position: absolute;border-left: 1px solid gray;box-sizing: border-box;top: 0;bottom: 0;left: 50%;z-index: -1;}#sk-container-id-1 div.sk-parallel-item {display: flex;flex-direction: column;z-index: 1;position: relative;background-color: white;}#sk-container-id-1 div.sk-parallel-item:first-child::after {align-self: flex-end;width: 50%;}#sk-container-id-1 div.sk-parallel-item:last-child::after {align-self: flex-start;width: 50%;}#sk-container-id-1 div.sk-parallel-item:only-child::after {width: 0;}#sk-container-id-1 div.sk-dashed-wrapped {border: 1px dashed gray;margin: 0 0.4em 0.5em 0.4em;box-sizing: border-box;padding-bottom: 0.4em;background-color: white;}#sk-container-id-1 div.sk-label label {font-family: monospace;font-weight: bold;display: inline-block;line-height: 1.2em;}#sk-container-id-1 div.sk-label-container {text-align: center;}#sk-container-id-1 div.sk-container {/* jupyter's `normalize.less` sets `[hidden] { display: none; }` but bootstrap.min.css set `[hidden] { display: none !important; }` so we also need the `!important` here to be able to override the default hidden behavior on the sphinx rendered scikit-learn.org. See: https://github.com/scikit-learn/scikit-learn/issues/21755 */display: inline-block !important;position: relative;}#sk-container-id-1 div.sk-text-repr-fallback {display: none;}</style><div id=\"sk-container-id-1\" class=\"sk-top-container\"><div class=\"sk-text-repr-fallback\"><pre>LinearRegression()</pre><b>In a Jupyter environment, please rerun this cell to show the HTML representation or trust the notebook. <br />On GitHub, the HTML representation is unable to render, please try loading this page with nbviewer.org.</b></div><div class=\"sk-container\" hidden><div class=\"sk-item\"><div class=\"sk-estimator sk-toggleable\"><input class=\"sk-toggleable__control sk-hidden--visually\" id=\"sk-estimator-id-1\" type=\"checkbox\" checked><label for=\"sk-estimator-id-1\" class=\"sk-toggleable__label sk-toggleable__label-arrow\">LinearRegression</label><div class=\"sk-toggleable__content\"><pre>LinearRegression()</pre></div></div></div></div></div>"
            ],
            "text/plain": [
              "LinearRegression()"
            ]
          },
          "execution_count": 12,
          "metadata": {},
          "output_type": "execute_result"
        }
      ],
      "source": [
        "# Train the model into train set\n",
        "model.fit(X_train_final, y_train)"
      ]
    },
    {
      "cell_type": "markdown",
      "metadata": {
        "id": "HLuOpguSTjru"
      },
      "source": [
        "### Model Evaluation"
      ]
    },
    {
      "cell_type": "code",
      "execution_count": 13,
      "metadata": {
        "colab": {
          "base_uri": "https://localhost:8080/"
        },
        "id": "Q9HPsyNcTlLs",
        "outputId": "ba6628a3-8049-4c72-94e7-55031821c30b"
      },
      "outputs": [
        {
          "name": "stdout",
          "output_type": "stream",
          "text": [
            "MAE Score :  2.345545208642147\n"
          ]
        }
      ],
      "source": [
        "# Evaluate the model performance on Train set\n",
        "y_pred_train = model.predict(X_train_final)\n",
        "\n",
        "# Metric evaluation\n",
        "print('MAE Score : ', mean_absolute_error(y_train, y_pred_train))"
      ]
    },
    {
      "cell_type": "code",
      "execution_count": 14,
      "metadata": {
        "colab": {
          "base_uri": "https://localhost:8080/"
        },
        "id": "_G8YxGbuULyB",
        "outputId": "3141ee01-f99e-406f-9db6-67f78f9d9e42"
      },
      "outputs": [
        {
          "name": "stdout",
          "output_type": "stream",
          "text": [
            "MAE Score :  2.3414145640024873\n"
          ]
        }
      ],
      "source": [
        "# Evaluate the model performance on test set\n",
        "y_pred_test = model.predict(X_test_final)\n",
        "\n",
        "# Metric evaluation\n",
        "print('MAE Score : ', mean_absolute_error(y_test, y_pred_test))"
      ]
    },
    {
      "cell_type": "markdown",
      "metadata": {
        "id": "AN6-cGKKXO1I"
      },
      "source": [
        "**Insight**\n",
        "- point 1\n",
        "- point 2"
      ]
    },
    {
      "cell_type": "markdown",
      "metadata": {
        "id": "xUYIOwEkXVjX"
      },
      "source": [
        "### Model Saving"
      ]
    },
    {
      "cell_type": "code",
      "execution_count": 15,
      "metadata": {
        "id": "A8eASWTIXRFH"
      },
      "outputs": [],
      "source": [
        "# Save list kolom kategorikal\n",
        "with open('list_cat_cols.txt', 'w') as file_1:\n",
        "  json.dump(cat_cols, file_1)\n",
        "\n",
        "# Save list kolom numerikal\n",
        "with open('list_num_cols.txt', 'w') as file_2:\n",
        "  json.dump(num_cols, file_2)\n",
        "\n",
        "# Save Encoder\n",
        "with open('encoder.pkl', 'wb') as file_3:\n",
        "  pickle.dump(encoder, file_3)\n",
        "\n",
        "# Save scaler\n",
        "with open('scaler.pkl', 'wb') as file_4:\n",
        "  pickle.dump(scaler, file_4)\n",
        "\n",
        "# Save model\n",
        "with open('model.pkl', 'wb') as file_5:\n",
        "  pickle.dump(model, file_5)"
      ]
    }
  ],
  "metadata": {
    "colab": {
      "provenance": []
    },
    "kernelspec": {
      "display_name": "Python 3",
      "name": "python3"
    },
    "language_info": {
      "codemirror_mode": {
        "name": "ipython",
        "version": 3
      },
      "file_extension": ".py",
      "mimetype": "text/x-python",
      "name": "python",
      "nbconvert_exporter": "python",
      "pygments_lexer": "ipython3",
      "version": "3.9.19"
    }
  },
  "nbformat": 4,
  "nbformat_minor": 0
}
